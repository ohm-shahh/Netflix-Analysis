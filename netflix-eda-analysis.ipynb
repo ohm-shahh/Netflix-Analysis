{
 "cells": [
  {
   "cell_type": "code",
   "execution_count": null,
   "id": "c917c4bf-54e6-4299-b284-a9e2c50e08d8",
   "metadata": {},
   "outputs": [],
   "source": [
    "import pandas as pd\n",
    "import seaborn as sns\n",
    "import matplotlib.pyplot as plt\n",
    "import numpy as np"
   ]
  },
  {
   "cell_type": "code",
   "execution_count": null,
   "id": "dbf5b912-f33c-46bc-92cb-b99e13964df8",
   "metadata": {},
   "outputs": [],
   "source": [
    "# Setup\n",
    "sns.set(style=\"whitegrid\")\n",
    "plt.rcParams[\"figure.figsize\"] = (10, 6)"
   ]
  },
  {
   "cell_type": "code",
   "execution_count": null,
   "id": "132b19be-13bd-40ff-8c81-40ad879fd708",
   "metadata": {},
   "outputs": [],
   "source": [
    "df = pd.read_csv(\"netflix_titles.csv\")"
   ]
  },
  {
   "cell_type": "code",
   "execution_count": null,
   "id": "04339e02-9cd1-4199-a320-23c27a2f9654",
   "metadata": {},
   "outputs": [],
   "source": [
    "df.info()"
   ]
  },
  {
   "cell_type": "code",
   "execution_count": null,
   "id": "64e62423-dbc0-4b5a-8834-82142115149e",
   "metadata": {},
   "outputs": [],
   "source": [
    "df.shape"
   ]
  },
  {
   "cell_type": "code",
   "execution_count": null,
   "id": "1fc903dc-7849-4553-8761-dd18420704c7",
   "metadata": {},
   "outputs": [],
   "source": [
    "df.isnull().sum()"
   ]
  },
  {
   "cell_type": "markdown",
   "id": "3b783b8e-463f-4419-8a65-a3c0af1b164b",
   "metadata": {},
   "source": [
    "### **Insights of DATA :-**\n",
    "#### `director` column has most **missing values**\n",
    "#### then `cast` and `country`\n",
    "#### `date_added` , `rating` and `duration` has less amount of **missing values**\n",
    "#### Most common Data type :- **`object`**"
   ]
  },
  {
   "cell_type": "code",
   "execution_count": null,
   "id": "f229a117-4fa4-4b03-9cac-b14690dbae0f",
   "metadata": {},
   "outputs": [],
   "source": [
    "# Filling Missing Values :-\n",
    "# Fill or Drop missing values where necessary\n",
    "\n",
    "df['director'] = df['director'].fillna(\"Not given\")\n",
    "df['cast'] = df['cast'].fillna(\"Not given\")\n",
    "df['country'] = df['country'].fillna(\"Unknown\")"
   ]
  },
  {
   "cell_type": "code",
   "execution_count": null,
   "id": "e0f5d3b3-79f2-4d6f-af4e-459c0bc9f320",
   "metadata": {},
   "outputs": [],
   "source": [
    "# df['date_added'] = pd.to_datetime(df['date_added'])\n",
    "df['date_added'] = pd.to_datetime(df[\"date_added\"] , errors='coerce')\n",
    "\n",
    "# error='coerce' will convert Nan to NaT (not a time ) and it will also not throw error if value is Nan"
   ]
  },
  {
   "cell_type": "markdown",
   "id": "db9f9bc0-5776-4427-aa80-8956295fb3c1",
   "metadata": {},
   "source": [
    "## **EDA (Exploratory Data Analysis)**"
   ]
  },
  {
   "cell_type": "code",
   "execution_count": null,
   "id": "2c9d81b0-4e5a-42e8-b8c6-92d9a6cee63e",
   "metadata": {},
   "outputs": [],
   "source": [
    "# 1. Count of Movies vs TV Shows\n",
    "sns.countplot(data=df,x='type',hue='type',palette='Blues')\n",
    "plt.title(\"Count of TV shows and Movies\")\n",
    "plt.show()"
   ]
  },
  {
   "cell_type": "code",
   "execution_count": null,
   "id": "8d2aee0c-c50f-4e78-99eb-f5ce727c4721",
   "metadata": {},
   "outputs": [],
   "source": [
    "from collections import Counter"
   ]
  },
  {
   "cell_type": "code",
   "execution_count": null,
   "id": "f9595e71-2d07-4d26-80c4-8c9eebcc7549",
   "metadata": {},
   "outputs": [],
   "source": [
    "# 2. Top 10 Genres (listed under 'listed_in')\n",
    "genre = \",\".join(df['listed_in'].dropna()).split(\", \")\n",
    "genre_counts = Counter(genre)\n",
    "\n",
    "# \ud83d\udc47 Dummy 'Category' column added to use `palette` without warning (required from Seaborn v0.14+)\n",
    "top_genres_df = pd.DataFrame(genre_counts.most_common(10), columns=[\"Genre\", \"Count\"])\n",
    "top_genres_df[\"Category\"] = \"Top 10\"\n",
    "\n",
    "sns.barplot(data=top_genres_df, x=\"Count\", y=\"Genre\", hue=\"Category\", palette=\"Reds\", legend=False)\n",
    "plt.title(\"Top 10 Most Common Genres\")\n",
    "plt.xlabel(\"Number of Titles\")\n",
    "plt.ylabel(\"Genre\")\n",
    "plt.show()"
   ]
  },
  {
   "cell_type": "code",
   "execution_count": null,
   "id": "580f9ec5-52f1-49d5-a382-3cf86d1cbd07",
   "metadata": {},
   "outputs": [],
   "source": [
    "# 3. Content added over the years\n",
    "\n",
    "df[\"year_added\"] = df[\"date_added\"].dt.year\n",
    "df[\"month_added\"] = df[\"date_added\"].dt.month\n",
    "sns.histplot(data=df, x=\"year_added\", hue=\"type\", multiple=\"stack\", bins=15)\n",
    "plt.title(\"Content Added to Netflix by Year\")\n",
    "plt.xlabel(\"Year\")\n",
    "plt.ylabel(\"Count\")\n",
    "plt.show()"
   ]
  },
  {
   "cell_type": "code",
   "execution_count": null,
   "id": "75cc5fd9-56b2-4c58-896f-74f56d7ec989",
   "metadata": {},
   "outputs": [],
   "source": [
    "# 4. Countries with most content\n",
    "top_countries = df[df[\"country\"] != \"Unknown\"][\"country\"].value_counts().head(10)\n",
    "sns.barplot(y=top_countries.index,x=top_countries.values,hue=top_countries.index,palette=\"magma\")\n",
    "# Hue is dummy in this case , just wrote to avoid warning "
   ]
  },
  {
   "cell_type": "code",
   "execution_count": null,
   "id": "008fc30c-69d7-4079-bb01-8b286ba07148",
   "metadata": {},
   "outputs": [],
   "source": [
    "# 5. Most frequent directors\n",
    "\n",
    "directors = df[\"director\"].value_counts().drop(\"Not given\").head(10)\n",
    "sns.barplot(y=directors.index, x=directors.values,hue=directors.index,palette='pastel')\n",
    "plt.title(\"Top 10 Directors on Netflix\")\n",
    "plt.xlabel(\"Number of Titles\")\n",
    "plt.ylabel(\"Director\")\n",
    "plt.show()"
   ]
  },
  {
   "cell_type": "code",
   "execution_count": null,
   "id": "3c87a9e9-b166-4d5f-a727-a00fbb82cfc1",
   "metadata": {},
   "outputs": [],
   "source": []
  }
 ],
 "metadata": {
  "kernelspec": {
   "display_name": "Python [conda env:base] *",
   "language": "python",
   "name": "conda-base-py"
  },
  "language_info": {
   "codemirror_mode": {
    "name": "ipython",
    "version": 3
   },
   "file_extension": ".py",
   "mimetype": "text/x-python",
   "name": "python",
   "nbconvert_exporter": "python",
   "pygments_lexer": "ipython3",
   "version": "3.12.7"
  }
 },
 "nbformat": 4,
 "nbformat_minor": 5
}