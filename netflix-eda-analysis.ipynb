{
 "cells": [
  {
   "cell_type": "code",
   "execution_count": null,
   "metadata": {},
   "outputs": [],
   "source": [
    "import pandas as pd\n",
    "import seaborn as sns\n",
    "import matplotlib.pyplot as plt\n",
    "import numpy as np"
   ]
  },
  {
   "cell_type": "code",
   "execution_count": null,
   "metadata": {},
   "outputs": [],
   "source": [
    "# Setup\n",
    "sns.set(style=\"whitegrid\")\n",
    "plt.rcParams[\"figure.figsize\"] = (10, 6)"
   ]
  },
  {
   "cell_type": "code",
   "execution_count": null,
   "metadata": {},
   "outputs": [],
   "source": [
    "df = pd.read_csv(\"netflix_titles.csv\")"
   ]
  },
  {
   "cell_type": "code",
   "execution_count": null,
   "metadata": {},
   "outputs": [],
   "source": [
    "df.info()"
   ]
  },
  {
   "cell_type": "code",
   "execution_count": null,
   "metadata": {},
   "outputs": [],
   "source": [
    "df.shape"
   ]
  },
  {
   "cell_type": "code",
   "execution_count": null,
   "metadata": {},
   "outputs": [],
   "source": [
    "df.isnull().sum()"
   ]
  },
  {
   "cell_type": "markdown",
   "metadata": {},
   "source": [
    "### **Insights of DATA :-**\n",
    "#### `director` column has most **missing values**\n",
    "#### then `cast` and `country`\n",
    "#### `date_added` , `rating` and `duration` has less amount of **missing values**\n",
    "#### Most common Data type :- **`object`**"
   ]
  },
  {
   "cell_type": "code",
   "execution_count": null,
   "metadata": {},
   "outputs": [],
   "source": [
    "# Filling Missing Values :-\n",
    "# Fill or Drop missing values where necessary\n",
    "\n",
    "df['director'] = df['director'].fillna(\"Not given\")\n",
    "df['cast'] = df['cast'].fillna(\"Not given\")\n",
    "df['country'] = df['country'].fillna(\"Unknown\")"
   ]
  },
  {
   "cell_type": "code",
   "execution_count": null,
   "metadata": {},
   "outputs": [],
   "source": [
    "# df['date_added'] = pd.to_datetime(df['date_added'])\n",
    "df['date_added'] = pd.to_datetime(df[\"date_added\"] , errors='coerce')\n",
    "\n",
    "# error='coerce' will convert Nan to NaT (not a time ) and it will also not throw error if value is Nan"
   ]
  },
  {
   "cell_type": "markdown",
   "metadata": {},
   "source": [
    "## **EDA (Exploratory Data Analysis)**"
   ]
  },
  {
   "cell_type": "code",
   "execution_count": null,
   "metadata": {},
   "outputs": [],
   "source": [
    "# 1. Count of Movies vs TV Shows\n",
    "sns.countplot(data=df,x='type',hue='type',palette='Blues')\n",
    "plt.title(\"Count of TV shows and Movies\")\n",
    "plt.show()"
   ]
  },
  {
   "cell_type": "code",
   "execution_count": null,
   "metadata": {},
   "outputs": [],
   "source": [
    "from collections import Counter"
   ]
  },
  {
   "cell_type": "code",
   "execution_count": null,
   "metadata": {},
   "outputs": [],
   "source": [
    "# 2. Top 10 Genres (listed under 'listed_in')\n",
    "genre = \",\".join(df['listed_in'].dropna()).split(\", \")\n",
    "genre_counts = Counter(genre)\n",
    "\n",
    "# \ud83d\udc47 Dummy 'Category' column added to use `palette` without warning (required from Seaborn v0.14+)\n",
    "top_genres_df = pd.DataFrame(genre_counts.most_common(10), columns=[\"Genre\", \"Count\"])\n",
    "top_genres_df[\"Category\"] = \"Top 10\"\n",
    "\n",
    "sns.barplot(data=top_genres_df, x=\"Count\", y=\"Genre\", hue=\"Category\", palette=\"Reds\", legend=False)\n",
    "plt.title(\"Top 10 Most Common Genres\")\n",
    "plt.xlabel(\"Number of Titles\")\n",
    "plt.ylabel(\"Genre\")\n",
    "plt.show()"
   ]
  },
  {
   "cell_type": "code",
   "execution_count": null,
   "metadata": {},
   "outputs": [],
   "source": [
    "# 3. Content added over the years\n",
    "\n",
    "df[\"year_added\"] = df[\"date_added\"].dt.year\n",
    "df[\"month_added\"] = df[\"date_added\"].dt.month\n",
    "sns.histplot(data=df, x=\"year_added\", hue=\"type\", multiple=\"stack\", bins=15)\n",
    "plt.title(\"Content Added to Netflix by Year\")\n",
    "plt.xlabel(\"Year\")\n",
    "plt.ylabel(\"Count\")\n",
    "plt.show()"
   ]
  },
  {
   "cell_type": "code",
   "execution_count": null,
   "metadata": {},
   "outputs": [],
   "source": [
    "# 4. Countries with most content\n",
    "top_countries = df[df[\"country\"] != \"Unknown\"][\"country\"].value_counts().head(10)\n",
    "sns.barplot(y=top_countries.index,x=top_countries.values,hue=top_countries.index,palette=\"magma\")\n",
    "# Hue is dummy in this case , just wrote to avoid warning "
   ]
  },
  {
   "cell_type": "code",
   "execution_count": null,
   "metadata": {},
   "outputs": [],
   "source": [
    "# 5. Most frequent directors\n",
    "\n",
    "directors = df[\"director\"].value_counts().drop(\"Not given\").head(10)\n",
    "sns.barplot(y=directors.index, x=directors.values,hue=directors.index,palette='pastel')\n",
    "plt.title(\"Top 10 Directors on Netflix\")\n",
    "plt.xlabel(\"Number of Titles\")\n",
    "plt.ylabel(\"Director\")\n",
    "plt.show()"
   ]
  },
  {
   "cell_type": "code",
   "execution_count": null,
   "metadata": {},
   "outputs": [],
   "source": []
  }
 ],
 "metadata": {
  "kernelspec": {
   "name": "python3",
   "language": "python",
   "display_name": "Python 3"
  },
  "language_info": {
   "name": "python",
   "version": "3.x"
  }
 },
 "nbformat": 4,
 "nbformat_minor": 2
}